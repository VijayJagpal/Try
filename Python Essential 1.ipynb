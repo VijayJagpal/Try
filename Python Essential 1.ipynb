{
 "cells": [
  {
   "cell_type": "markdown",
   "metadata": {},
   "source": [
    "# Python Programming: Essentials 1\n",
    "\n",
    "#### Variables are used to store values. \n",
    "\n",
    "#### A string is a series of characters, surrounded by single or double quotes. "
   ]
  },
  {
   "cell_type": "markdown",
   "metadata": {},
   "source": [
    "Hello world"
   ]
  },
  {
   "cell_type": "code",
   "execution_count": 2,
   "metadata": {},
   "outputs": [
    {
     "name": "stdout",
     "output_type": "stream",
     "text": [
      "Hello World!\n"
     ]
    }
   ],
   "source": [
    "print(\"Hello World!\") #print() is your first function"
   ]
  },
  {
   "cell_type": "markdown",
   "metadata": {},
   "source": [
    "Hello world via a variable"
   ]
  },
  {
   "cell_type": "code",
   "execution_count": 4,
   "metadata": {},
   "outputs": [
    {
     "name": "stdout",
     "output_type": "stream",
     "text": [
      "Hello Pairview!\n"
     ]
    }
   ],
   "source": [
    "message = \"Hello Pairview!\" # assigning a string to a variable\n",
    "print(message) # message is a variable"
   ]
  },
  {
   "cell_type": "markdown",
   "metadata": {},
   "source": [
    "\n",
    "\n",
    "Concatenation (combining strings) "
   ]
  },
  {
   "cell_type": "code",
   "execution_count": 6,
   "metadata": {},
   "outputs": [
    {
     "name": "stdout",
     "output_type": "stream",
     "text": [
      "Fabien GUERET\n",
      "Fabien GUERETFabien GUERETFabien GUERETFabien GUERETFabien GUERET\n"
     ]
    }
   ],
   "source": [
    "first_name = 'Fabien' \n",
    "last_name = 'GUERET' \n",
    "full_name = first_name + ' ' + last_name \n",
    "print(full_name)\n",
    "\n",
    "# little funny one: multiply words! \n",
    "print(full_name * 5)\n"
   ]
  },
  {
   "cell_type": "code",
   "execution_count": 7,
   "metadata": {},
   "outputs": [
    {
     "name": "stdout",
     "output_type": "stream",
     "text": [
      "Fabien GUERET\n"
     ]
    }
   ],
   "source": [
    "print(first_name , last_name ) # the comma adds a space automatically"
   ]
  },
  {
   "cell_type": "markdown",
   "metadata": {},
   "source": [
    "\n",
    "\n",
    "## List\n",
    "\n",
    "A list stores a series of items in a particular order. \n",
    "\n",
    "You access items using an index, or within a loop. \n",
    "Make a list "
   ]
  },
  {
   "cell_type": "code",
   "execution_count": 8,
   "metadata": {},
   "outputs": [
    {
     "name": "stdout",
     "output_type": "stream",
     "text": [
      "['mountain', 'road', 'race', 'penny-farthing']\n"
     ]
    }
   ],
   "source": [
    "bicycles = ['mountain', 'road', 'race', 'penny-farthing']\n",
    "\n",
    "print(bicycles)\n"
   ]
  },
  {
   "cell_type": "code",
   "execution_count": 9,
   "metadata": {},
   "outputs": [
    {
     "name": "stdout",
     "output_type": "stream",
     "text": [
      "['mountain', 'road', 'race', 'penny-farthing', 'raleigh', 'brompton']\n"
     ]
    }
   ],
   "source": [
    "addon = ['raleigh' , 'brompton']\n",
    "bicycles = bicycles + addon # add a list to a list\n",
    "print(bicycles)\n"
   ]
  },
  {
   "cell_type": "markdown",
   "metadata": {},
   "source": [
    "Get the first item in the list"
   ]
  },
  {
   "cell_type": "code",
   "execution_count": 13,
   "metadata": {},
   "outputs": [
    {
     "name": "stdout",
     "output_type": "stream",
     "text": [
      "road\n"
     ]
    }
   ],
   "source": [
    "first_bike = bicycles[0] \n",
    "print (first_bike)"
   ]
  },
  {
   "cell_type": "markdown",
   "metadata": {},
   "source": [
    "Get the last item in the list"
   ]
  },
  {
   "cell_type": "code",
   "execution_count": null,
   "metadata": {},
   "outputs": [],
   "source": [
    "last_bike = bicycles[-1]\n",
    "print(last_bike)\n"
   ]
  },
  {
   "cell_type": "code",
   "execution_count": 11,
   "metadata": {},
   "outputs": [
    {
     "name": "stdout",
     "output_type": "stream",
     "text": [
      "raleigh\n"
     ]
    }
   ],
   "source": [
    "# write code to print the penultimate (i.e. one before last) bike\n",
    "second_last = bicycles[4]\n",
    "print(second_last)"
   ]
  },
  {
   "cell_type": "code",
   "execution_count": 12,
   "metadata": {},
   "outputs": [
    {
     "name": "stdout",
     "output_type": "stream",
     "text": [
      "raleigh\n"
     ]
    }
   ],
   "source": [
    "one_b4_last = bicycles[-2]\n",
    "print(one_b4_last)"
   ]
  },
  {
   "cell_type": "markdown",
   "metadata": {},
   "source": [
    "# Working with Strings\n",
    "\n",
    "## split() function"
   ]
  },
  {
   "cell_type": "code",
   "execution_count": 24,
   "metadata": {},
   "outputs": [
    {
     "name": "stdout",
     "output_type": "stream",
     "text": [
      "['UK', 'house', 'prices', 'grew', 'two', 'per', 'cent', 'year', 'on', 'year', 'for', 'September.']\n",
      "['https:', '', 'www.theguardian.com', 'society', '2018', 'oct', '11', 'john-major-universal-credit-could-result-in-backlash-like-poll-tax']\n"
     ]
    }
   ],
   "source": [
    "# the function split() cuts a string at specified character position then store the result in a list\n",
    "\n",
    "sentence = 'UK house prices grew two per cent year on year for September.'\n",
    "\n",
    "words = sentence.split(' ')\n",
    "\n",
    "print(words)\n",
    "\n",
    "url = 'https://www.theguardian.com/society/2018/oct/11/john-major-universal-credit-could-result-in-backlash-like-poll-tax'\n",
    "\n",
    "elements = url.split('/')\n",
    "print(elements)\n"
   ]
  },
  {
   "cell_type": "code",
   "execution_count": 20,
   "metadata": {},
   "outputs": [
    {
     "name": "stdout",
     "output_type": "stream",
     "text": [
      "['trainingsupport', 'pairview.co.uk']\n",
      "trainingsupport pairview.co.uk\n"
     ]
    }
   ],
   "source": [
    "# adapt to get the first and second part from an email address\n",
    "\n",
    "email = \"trainingsupport@pairview.co.uk\"\n",
    "\n",
    "########## your code below#############\n",
    "\n",
    "parts = email.split('@')\n",
    "print(parts)\n",
    "\n",
    "individual = parts[0]\n",
    "company = parts[-1]\n",
    "print(individual,company)"
   ]
  },
  {
   "cell_type": "code",
   "execution_count": 22,
   "metadata": {},
   "outputs": [
    {
     "name": "stdout",
     "output_type": "stream",
     "text": [
      "['Elizabeth', 'Alexandra', 'Mary', 'Windsor']\n",
      "Elizabeth Windsor\n"
     ]
    }
   ],
   "source": [
    "# write code to get the first name and the last name from the full name that \n",
    "# can include 1 or many middle names\n",
    "\n",
    "################your code################\n",
    "myname = \"Elizabeth Alexandra Mary Windsor\"\n",
    "\n",
    "parts = myname.split(' ')\n",
    "print(parts)\n",
    "\n",
    "first_name= parts[0]\n",
    "last_name = parts[-1]\n",
    "print(first_name,last_name)\n"
   ]
  },
  {
   "cell_type": "markdown",
   "metadata": {},
   "source": [
    "## join() function"
   ]
  },
  {
   "cell_type": "code",
   "execution_count": 29,
   "metadata": {},
   "outputs": [
    {
     "name": "stdout",
     "output_type": "stream",
     "text": [
      "UK house prices grew two per cent year on year for September.\n"
     ]
    }
   ],
   "source": [
    "# the function join() take a list of strings and concatenate its elements separated by the character passed to it\n",
    "separator =' '\n",
    "sentence = separator.join(words)\n",
    "\n",
    "print(sentence)"
   ]
  },
  {
   "cell_type": "markdown",
   "metadata": {},
   "source": [
    "## strip() function"
   ]
  },
  {
   "cell_type": "code",
   "execution_count": 36,
   "metadata": {},
   "outputs": [
    {
     "name": "stdout",
     "output_type": "stream",
     "text": [
      "this is a polluted # string example\n"
     ]
    }
   ],
   "source": [
    "# the function strip() removes unwanted characters (spaces usually) \n",
    "# at the beginning and ending of a string\n",
    "stri = \"0000000@@this is a polluted # string example@@0000000\"\n",
    "clean = stri.strip('0').strip('@')\n",
    "print(clean)"
   ]
  },
  {
   "cell_type": "markdown",
   "metadata": {},
   "source": [
    "## replace(old_word,new_word) function"
   ]
  },
  {
   "cell_type": "code",
   "execution_count": 37,
   "metadata": {},
   "outputs": [
    {
     "name": "stdout",
     "output_type": "stream",
     "text": [
      "this is a polluted string example\n"
     ]
    }
   ],
   "source": [
    "# and now I present you the function replace\n",
    "print( stri. strip('0').strip('@').replace( '# ' , '' ))"
   ]
  },
  {
   "cell_type": "markdown",
   "metadata": {},
   "source": [
    "# for in statement\n",
    "### Looping through a list "
   ]
  },
  {
   "cell_type": "code",
   "execution_count": 46,
   "metadata": {},
   "outputs": [
    {
     "name": "stdout",
     "output_type": "stream",
     "text": [
      "mountain\n",
      "road\n",
      "race\n",
      "penny-farthing\n"
     ]
    }
   ],
   "source": [
    "bicycles = ['mountain', 'road', 'race', 'penny-farthing']\n",
    "\n",
    "\n",
    "\n",
    "for bike in bicycles: \n",
    "    print(bike)\n"
   ]
  },
  {
   "cell_type": "markdown",
   "metadata": {},
   "source": [
    "## range () function\n",
    "    "
   ]
  },
  {
   "cell_type": "code",
   "execution_count": 45,
   "metadata": {},
   "outputs": [
    {
     "name": "stdout",
     "output_type": "stream",
     "text": [
      "mountain\n",
      "road\n",
      "race\n",
      "penny-farthing\n"
     ]
    }
   ],
   "source": [
    "# loop above equivalent to \n",
    "\n",
    "for i in range(0,4): #for i = 0 to 4 do in C++\n",
    "    print(bicycles[i])"
   ]
  },
  {
   "cell_type": "code",
   "execution_count": 41,
   "metadata": {},
   "outputs": [],
   "source": [
    "# range function tester\n"
   ]
  },
  {
   "cell_type": "code",
   "execution_count": 42,
   "metadata": {},
   "outputs": [
    {
     "name": "stdout",
     "output_type": "stream",
     "text": [
      "0\n",
      "1\n",
      "2\n",
      "3\n",
      "4\n",
      "5\n",
      "6\n",
      "7\n"
     ]
    }
   ],
   "source": [
    "for number in range(8): # one only attribute = range(0,8)\n",
    "    print(number)"
   ]
  },
  {
   "cell_type": "code",
   "execution_count": 43,
   "metadata": {},
   "outputs": [
    {
     "name": "stdout",
     "output_type": "stream",
     "text": [
      "2\n",
      "3\n",
      "4\n",
      "5\n",
      "6\n",
      "7\n"
     ]
    }
   ],
   "source": [
    "for number in range(2,8): # first is start , second the one before\n",
    "    print(number)"
   ]
  },
  {
   "cell_type": "code",
   "execution_count": 44,
   "metadata": {},
   "outputs": [
    {
     "name": "stdout",
     "output_type": "stream",
     "text": [
      "2\n",
      "4\n",
      "6\n"
     ]
    }
   ],
   "source": [
    "for number in range(2,8,2): # first is start , second the one before the last # 3rd the step\n",
    "    print(number)"
   ]
  },
  {
   "cell_type": "markdown",
   "metadata": {},
   "source": [
    "## Adding items to a list"
   ]
  },
  {
   "cell_type": "code",
   "execution_count": 48,
   "metadata": {},
   "outputs": [
    {
     "name": "stdout",
     "output_type": "stream",
     "text": [
      "['mountain', 'road', 'race', 'penny-farthing', 'peugeot', 'peugeot']\n"
     ]
    }
   ],
   "source": [
    "# add another string\n",
    "bicycles.append('peugeot')\n",
    "print(bicycles)\n",
    "# equivalent to \n",
    "bicycles = bicycles  +  ['peugeot']"
   ]
  },
  {
   "cell_type": "code",
   "execution_count": 50,
   "metadata": {},
   "outputs": [
    {
     "name": "stdout",
     "output_type": "stream",
     "text": [
      "['mountain', 'road', 'BMX', 'BMX', 'race', 'penny-farthing', 'peugeot', 'peugeot']\n"
     ]
    }
   ],
   "source": [
    "# aside: insert\n",
    "bicycles.insert(2,'BMX')\n",
    "print(bicycles)"
   ]
  },
  {
   "cell_type": "code",
   "execution_count": 59,
   "metadata": {},
   "outputs": [
    {
     "name": "stdout",
     "output_type": "stream",
     "text": [
      "['mountain', 'road', 'BMX', 'race', 'penny-farthing', 'peugeot', ['derailleur', 'shimano'], 22]\n"
     ]
    }
   ],
   "source": [
    "# add a number!\n",
    "bicycles.append(22)\n",
    "print(bicycles)"
   ]
  },
  {
   "cell_type": "code",
   "execution_count": 53,
   "metadata": {},
   "outputs": [
    {
     "name": "stdout",
     "output_type": "stream",
     "text": [
      "['mountain', 'road', 'BMX', 'race', 'penny-farthing', 'peugeot', 22]\n"
     ]
    }
   ],
   "source": [
    "bicycles.remove('BMX') #removes the 1t instance in the list of the attribute\n",
    "print(bicycles)"
   ]
  },
  {
   "cell_type": "code",
   "execution_count": 54,
   "metadata": {},
   "outputs": [
    {
     "name": "stdout",
     "output_type": "stream",
     "text": [
      "['mountain', 'road', 'BMX', 'race', 'penny-farthing', 'peugeot']\n"
     ]
    }
   ],
   "source": [
    "bicycles.pop() # removes the last item in the list\n",
    "print(bicycles)"
   ]
  },
  {
   "cell_type": "code",
   "execution_count": 60,
   "metadata": {},
   "outputs": [
    {
     "name": "stdout",
     "output_type": "stream",
     "text": [
      "['mountain', 'road', 'BMX', 'race', 'penny-farthing', 'peugeot', ['derailleur', 'shimano'], 22, ['derailleur', 'shimano']]\n"
     ]
    }
   ],
   "source": [
    "# add a list!!\n",
    "bicycles.append(['derailleur','shimano']) \n",
    "print(bicycles)\n",
    "\n",
    "#YOU CAN ADD ANYTHING!!!"
   ]
  },
  {
   "cell_type": "code",
   "execution_count": 62,
   "metadata": {},
   "outputs": [
    {
     "name": "stdout",
     "output_type": "stream",
     "text": [
      "shimano\n"
     ]
    }
   ],
   "source": [
    "# Code for accessing the second item in the list inside the list\n",
    "print(bicycles[-1][-1])\n",
    "\n"
   ]
  },
  {
   "cell_type": "markdown",
   "metadata": {},
   "source": [
    "## Making numerical lists"
   ]
  },
  {
   "cell_type": "code",
   "execution_count": 78,
   "metadata": {},
   "outputs": [
    {
     "name": "stdout",
     "output_type": "stream",
     "text": [
      "[1, 8, 27, 64, 125, 216]\n"
     ]
    }
   ],
   "source": [
    "# initialisation \n",
    "cubes = [] \n",
    "\n",
    "for number in range(1, 7): \n",
    "    cubes.append(number**3) \n",
    "\n",
    "print(cubes)\n",
    "\n",
    "# ** operator is power"
   ]
  },
  {
   "cell_type": "code",
   "execution_count": 90,
   "metadata": {},
   "outputs": [
    {
     "name": "stdout",
     "output_type": "stream",
     "text": [
      "10.0\n"
     ]
    }
   ],
   "source": [
    "# write code to calculate the average of numbers from 5 to 15\n",
    "# the average is the sum divided by the number of elements\n",
    "\n",
    "series = [5,6,7,8,9,10,11,12,13,14,15]\n",
    "#range(5,16)\n",
    "\n",
    "#\n",
    "#initialisation\n",
    "Sum = 0\n",
    "# count = 0\n",
    "for number in series:\n",
    "    Sum = Sum + number\n",
    "    # count = count + 1\n",
    "    \n",
    "count = len(series)\n",
    "average = Sum / count      \n",
    "print(average)    \n",
    "  "
   ]
  },
  {
   "cell_type": "code",
   "execution_count": 93,
   "metadata": {},
   "outputs": [
    {
     "name": "stdout",
     "output_type": "stream",
     "text": [
      "10.0\n"
     ]
    }
   ],
   "source": [
    "#initialisation\n",
    "Sum = 0\n",
    "count = 0\n",
    "\n",
    "for number in range(5,16):\n",
    "    Sum = Sum + number\n",
    "    count = count + 1\n",
    "    \n",
    "average = Sum / count      \n",
    "print(average)  "
   ]
  },
  {
   "cell_type": "markdown",
   "metadata": {},
   "source": [
    "## len() function"
   ]
  },
  {
   "cell_type": "code",
   "execution_count": 64,
   "metadata": {},
   "outputs": [
    {
     "name": "stdout",
     "output_type": "stream",
     "text": [
      "11\n",
      "9\n",
      "8\n"
     ]
    }
   ],
   "source": [
    "# the amazing Len function - aka the length of everything\n",
    "#len()    \n",
    "   \n",
    "l = len (range(5,16))\n",
    "print(l)\n",
    "\n",
    "print( len (bicycles))\n",
    "\n",
    "print(len('guardian'))"
   ]
  },
  {
   "cell_type": "markdown",
   "metadata": {},
   "source": [
    "# List comprehensions : Advanced\n"
   ]
  },
  {
   "cell_type": "code",
   "execution_count": 95,
   "metadata": {},
   "outputs": [
    {
     "name": "stdout",
     "output_type": "stream",
     "text": [
      "[1, 8, 27, 64, 125, 216]\n"
     ]
    }
   ],
   "source": [
    "cubes = [x**3 for x in range(1, 7)] \n",
    "print(cubes)\n",
    "# equivalent to "
   ]
  },
  {
   "cell_type": "code",
   "execution_count": 98,
   "metadata": {},
   "outputs": [
    {
     "name": "stdout",
     "output_type": "stream",
     "text": [
      "[1, 8, 27, 64, 125, 216]\n"
     ]
    }
   ],
   "source": [
    "cubes = [] \n",
    "for x in range(1, 7): \n",
    "    cubes.append(x**3) \n",
    "print(cubes)"
   ]
  },
  {
   "cell_type": "markdown",
   "metadata": {},
   "source": [
    "## List comprehension exercise \n",
    "\n",
    "Write one line of Python that takes this list and makes a new list that has only the even elements of this list in it."
   ]
  },
  {
   "cell_type": "code",
   "execution_count": null,
   "metadata": {},
   "outputs": [],
   "source": [
    "list = [1, 4, 9, 16, 25, 36, 49, 64, 81, 100]"
   ]
  },
  {
   "cell_type": "markdown",
   "metadata": {},
   "source": [
    "## Slicing a list "
   ]
  },
  {
   "cell_type": "code",
   "execution_count": 99,
   "metadata": {},
   "outputs": [
    {
     "name": "stdout",
     "output_type": "stream",
     "text": [
      "['Sue', 'Elliot']\n"
     ]
    }
   ],
   "source": [
    "finishers = ['Sue','Elliot', 'Kumiko','Damien'] \n",
    "first_two = finishers[:2] # all up to 2 but not 2\n",
    "print(first_two)"
   ]
  },
  {
   "cell_type": "code",
   "execution_count": 101,
   "metadata": {},
   "outputs": [
    {
     "name": "stdout",
     "output_type": "stream",
     "text": [
      "['Kumiko', 'Damien']\n"
     ]
    }
   ],
   "source": [
    "last_two = finishers[2:] # from 2 (included) up to end\n",
    "print(last_two)"
   ]
  },
  {
   "cell_type": "code",
   "execution_count": 102,
   "metadata": {},
   "outputs": [
    {
     "name": "stdout",
     "output_type": "stream",
     "text": [
      "['Sue', 'Elliot', 'Kumiko', 'Damien']\n"
     ]
    }
   ],
   "source": [
    "f = finishers[:2] + finishers[2:]\n",
    "print(f)"
   ]
  },
  {
   "cell_type": "code",
   "execution_count": 103,
   "metadata": {},
   "outputs": [
    {
     "name": "stdout",
     "output_type": "stream",
     "text": [
      "['Kumiko', 'Damien']\n"
     ]
    }
   ],
   "source": [
    "last_two = finishers[-2:]\n",
    "print(last_two)"
   ]
  },
  {
   "cell_type": "markdown",
   "metadata": {},
   "source": [
    "## index() function\n",
    "index function returns the first occurence in the list"
   ]
  },
  {
   "cell_type": "code",
   "execution_count": 104,
   "metadata": {},
   "outputs": [
    {
     "name": "stdout",
     "output_type": "stream",
     "text": [
      "Index | Finisher\n",
      "0  |  Sue\n",
      "1  |  Elliot\n",
      "2  |  Kumiko\n",
      "3  |  Damien\n",
      "1  |  Elliot\n"
     ]
    }
   ],
   "source": [
    "# want a table with the position next to the element\n",
    "finishers = ['Sue','Elliot', 'Kumiko','Damien','Elliot'] \n",
    "print('Index | Finisher')\n",
    "for f in finishers:\n",
    "    print(finishers.index(f), ' | ',f)\n",
    "# index function returns the first occurence in the list\n",
    "# a.k.a. vlookup in Excel"
   ]
  },
  {
   "cell_type": "code",
   "execution_count": 107,
   "metadata": {},
   "outputs": [
    {
     "name": "stdout",
     "output_type": "stream",
     "text": [
      "Index | Finisher\n",
      "0  |  Sue\n",
      "1  |  Elliot\n",
      "2  |  Kumiko\n",
      "3  |  Damien\n",
      "4  |  Elliot\n"
     ]
    }
   ],
   "source": [
    "finishers = ['Sue','Elliot', 'Kumiko','Damien','Elliot'] \n",
    "L =len(finishers)\n",
    "print('Index | Finisher')\n",
    "for number in range(0,L):\n",
    "    print(number  , ' | ',finishers[number])\n",
    "    "
   ]
  },
  {
   "cell_type": "markdown",
   "metadata": {},
   "source": [
    "Copying a list"
   ]
  },
  {
   "cell_type": "code",
   "execution_count": 108,
   "metadata": {},
   "outputs": [
    {
     "name": "stdout",
     "output_type": "stream",
     "text": [
      "['mountain', 'road', 'BMX', 'race', 'penny-farthing', 'peugeot', ['derailleur', 'shimano'], 22, ['derailleur', 'shimano']]\n"
     ]
    }
   ],
   "source": [
    "copy_of_bicycles = bicycles[:] \n",
    "print(copy_of_bicycles)"
   ]
  },
  {
   "cell_type": "markdown",
   "metadata": {},
   "source": [
    "### Tuples\n",
    "\n",
    "Tuples are similar to lists, but the items in a tuple can't be modified. "
   ]
  },
  {
   "cell_type": "markdown",
   "metadata": {},
   "source": [
    "Making a tuple "
   ]
  },
  {
   "cell_type": "code",
   "execution_count": null,
   "metadata": {},
   "outputs": [],
   "source": [
    "# tuple of numbers\n",
    "dimensions = (1920, 1080)\n",
    "\n",
    "# tuples of tuples\n",
    "pushbikes= ('mountain', 'road', 'race', 'penny-farthing')\n",
    "\n",
    "#tuple of different types of variables\n",
    "hold_all = (35, 'Data Science', [1,2,3,4,5], (1,7))\n",
    "\n",
    "print(hold_all)\n",
    "\n",
    "# lists can be modified \n",
    "bicycles[0]='raleigh'\n",
    "print(bicycles)"
   ]
  },
  {
   "cell_type": "code",
   "execution_count": null,
   "metadata": {},
   "outputs": [],
   "source": [
    "#hold_all[0]= 34\n",
    "\n",
    "print(hold_all[0])"
   ]
  },
  {
   "cell_type": "markdown",
   "metadata": {},
   "source": [
    "### If statements are used to test for particular conditions and respond appropriately.\n",
    "\n",
    "# if (condition) : action"
   ]
  },
  {
   "cell_type": "code",
   "execution_count": 109,
   "metadata": {},
   "outputs": [
    {
     "name": "stdout",
     "output_type": "stream",
     "text": [
      "You may be able to vote\n"
     ]
    }
   ],
   "source": [
    "# If statement\n",
    "age = 25\n",
    "commonwealth = True\n",
    "if age >= 18: \n",
    "    print(\"You may be able to vote\")"
   ]
  },
  {
   "cell_type": "code",
   "execution_count": 110,
   "metadata": {},
   "outputs": [
    {
     "name": "stdout",
     "output_type": "stream",
     "text": [
      "You can vote!\n"
     ]
    }
   ],
   "source": [
    "if (age >= 18 and commonwealth == True):\n",
    "    print(\"You can vote!\") \n",
    " "
   ]
  },
  {
   "cell_type": "code",
   "execution_count": 112,
   "metadata": {},
   "outputs": [
    {
     "name": "stdout",
     "output_type": "stream",
     "text": [
      "15\n"
     ]
    }
   ],
   "source": [
    "#If-elif-else statements \n",
    "if age < 4: price = 0 \n",
    "elif age < 18: price = 10 \n",
    "elif age > 65: price = 12\n",
    "else: price = 15\n",
    "\n",
    "print(price)"
   ]
  },
  {
   "cell_type": "markdown",
   "metadata": {},
   "source": [
    "Conditions\n",
    "\n",
    "tests equals\n",
    "x == 42 \n",
    "\n",
    "not equal \n",
    "x != 42  \n",
    "\n",
    "greater than \n",
    "x > 42 \n",
    "\n",
    "greater than or equal to\n",
    "x >= 42 \n",
    "\n",
    "less than\n",
    "x < 42 \n",
    "\n",
    "less than or equal to\n",
    "x <= 42"
   ]
  },
  {
   "cell_type": "code",
   "execution_count": 113,
   "metadata": {},
   "outputs": [
    {
     "name": "stdout",
     "output_type": "stream",
     "text": [
      "is x smaller than 42? False\n",
      "is x bigger than 42? True\n",
      "True\n"
     ]
    }
   ],
   "source": [
    "x = 57 # i assign 57 to x\n",
    "# (x<42) is  a test with a value of True of False\n",
    "print('is x smaller than 42?', x < 42)\n",
    "\n",
    "X =(x > 42 )\n",
    "print('is x bigger than 42?', X)\n",
    "\n",
    "if X : \n",
    "    print(X)"
   ]
  },
  {
   "cell_type": "code",
   "execution_count": 114,
   "metadata": {},
   "outputs": [
    {
     "name": "stdout",
     "output_type": "stream",
     "text": [
      "True\n"
     ]
    }
   ],
   "source": [
    "test = 50\n",
    "x = (test!= 55)\n",
    "\n",
    "if x :\n",
    "    print(x)"
   ]
  },
  {
   "cell_type": "markdown",
   "metadata": {},
   "source": [
    "## Conditional test with lists \n",
    "## IN\n",
    "## NOT IN"
   ]
  },
  {
   "cell_type": "code",
   "execution_count": 115,
   "metadata": {},
   "outputs": [
    {
     "name": "stdout",
     "output_type": "stream",
     "text": [
      "False\n"
     ]
    }
   ],
   "source": [
    "print('downhill' in bicycles)"
   ]
  },
  {
   "cell_type": "code",
   "execution_count": 116,
   "metadata": {},
   "outputs": [
    {
     "name": "stdout",
     "output_type": "stream",
     "text": [
      "True\n"
     ]
    }
   ],
   "source": [
    "print('downhill' not in bicycles)"
   ]
  },
  {
   "cell_type": "markdown",
   "metadata": {},
   "source": [
    "Assigning boolean values"
   ]
  },
  {
   "cell_type": "code",
   "execution_count": null,
   "metadata": {},
   "outputs": [],
   "source": [
    "game_active = True \n",
    "can_edit = False\n",
    "\n",
    "if game_active or can_edit:\n",
    "    print('yay')"
   ]
  },
  {
   "cell_type": "markdown",
   "metadata": {},
   "source": [
    "# Exercise\n",
    "\n",
    "Take a list of numbers\n",
    "and write a program that prints out all the elements of the list that are less than 5."
   ]
  },
  {
   "cell_type": "code",
   "execution_count": 117,
   "metadata": {},
   "outputs": [
    {
     "name": "stdout",
     "output_type": "stream",
     "text": [
      "1\n",
      "1\n",
      "2\n",
      "3\n"
     ]
    }
   ],
   "source": [
    "# set list\n",
    "\n",
    "List = [1, 1, 2, 3, 5, 8, 13, 21, 34, 55, 89]\n",
    "\n",
    "# your code below\n",
    "\n",
    "L = len(List)\n",
    "for number in range (0,L):\n",
    "    if List[number] < 5: print(List[number])\n",
    "    \n"
   ]
  },
  {
   "cell_type": "code",
   "execution_count": 118,
   "metadata": {},
   "outputs": [
    {
     "name": "stdout",
     "output_type": "stream",
     "text": [
      "1\n",
      "1\n",
      "2\n",
      "3\n"
     ]
    }
   ],
   "source": [
    "for x in List:\n",
    "    if x < 5 : print(x)"
   ]
  },
  {
   "cell_type": "code",
   "execution_count": 121,
   "metadata": {},
   "outputs": [
    {
     "name": "stdout",
     "output_type": "stream",
     "text": [
      "[1, 1, 2, 3]\n",
      "4\n"
     ]
    }
   ],
   "source": [
    "Result = [number for number in List if number < 5] \n",
    "print(Result)\n",
    "print(len(Result))"
   ]
  },
  {
   "cell_type": "code",
   "execution_count": 124,
   "metadata": {},
   "outputs": [
    {
     "name": "stdout",
     "output_type": "stream",
     "text": [
      "1\n",
      "1\n",
      "2\n",
      "3\n",
      "numbers under 5 :  4\n"
     ]
    }
   ],
   "source": [
    "# initialisation\n",
    "count = 0\n",
    "\n",
    "for x in List:\n",
    "    if x < 5 : \n",
    "        print(x)\n",
    "        count = count + 1\n",
    "print('numbers under 5 : ',count)    "
   ]
  },
  {
   "cell_type": "code",
   "execution_count": 125,
   "metadata": {},
   "outputs": [
    {
     "name": "stdout",
     "output_type": "stream",
     "text": [
      "24\n",
      "92\n",
      "99\n",
      "66\n",
      "93\n",
      "48\n",
      "39\n",
      "29\n",
      "73\n",
      "96\n"
     ]
    }
   ],
   "source": [
    "# extra: create a list of random number using the\n",
    "# random generator below\n",
    "\n",
    "import random\n",
    "for x in range(10):\n",
    "  print(random.randint(1,101))"
   ]
  },
  {
   "cell_type": "markdown",
   "metadata": {},
   "source": [
    "# Dictionaries \n",
    "they store connections between pieces of information\n",
    "\n",
    "Each item in a dictionary is a key-value pair"
   ]
  },
  {
   "cell_type": "markdown",
   "metadata": {},
   "source": [
    "Simple dictionaries {}"
   ]
  },
  {
   "cell_type": "code",
   "execution_count": 127,
   "metadata": {},
   "outputs": [],
   "source": [
    "word_frequency = {'Data' : 14, 'Science': 10, 'Machine': 5, 'Learning' : 8}\n",
    "\n",
    "\n",
    "real_dictionary = {'a': 'string that defines a', 'abc': 'definition of abc'}\n",
    "\n",
    "\n",
    "# with different value types\n",
    "car = {'make' : 'Mazda', 'model' : '3 sport', 'engine_size_cc': 2259,\n",
    "       'colour': 'laser blue', 'dimensions_mm' : {'w':1795 , 'l':4465 , 'h':1465}}\n"
   ]
  },
  {
   "cell_type": "markdown",
   "metadata": {},
   "source": [
    "Accessing a value"
   ]
  },
  {
   "cell_type": "code",
   "execution_count": 128,
   "metadata": {},
   "outputs": [
    {
     "name": "stdout",
     "output_type": "stream",
     "text": [
      "The car colour is laser blue\n"
     ]
    }
   ],
   "source": [
    "print(\"The car colour is \" + car['colour'])\n",
    "# dict[key] accesses the value in key , value pair"
   ]
  },
  {
   "cell_type": "code",
   "execution_count": 129,
   "metadata": {},
   "outputs": [
    {
     "name": "stdout",
     "output_type": "stream",
     "text": [
      "{'w': 1795, 'l': 4465, 'h': 1465}\n"
     ]
    }
   ],
   "source": [
    "#write code to retrieve the dictionary inside the dictionary\n",
    "\n",
    "dictionary = car['dimensions_mm']\n",
    "print(dictionary)\n"
   ]
  },
  {
   "cell_type": "code",
   "execution_count": 131,
   "metadata": {},
   "outputs": [
    {
     "name": "stdout",
     "output_type": "stream",
     "text": [
      "car length is 4465 mm\n"
     ]
    }
   ],
   "source": [
    "# retrieve the value in the dictionary inside the dictionary\n",
    "\n",
    "print('car length is', car['dimensions_mm']['l'], 'mm')"
   ]
  },
  {
   "cell_type": "code",
   "execution_count": null,
   "metadata": {},
   "outputs": [],
   "source": [
    "Adding a new key-value pair\n",
    "car = {'make' : 'Mazda', 'model' : '3 sport', 'engine_size_cc': 2259,\n",
    "       'colour': 'laser blue', 'dimensions_mm' : {'w':1795 , 'l':4465 , 'h':1465}}\n"
   ]
  },
  {
   "cell_type": "code",
   "execution_count": 132,
   "metadata": {},
   "outputs": [
    {
     "name": "stdout",
     "output_type": "stream",
     "text": [
      "{'make': 'Mazda', 'model': '3 sport', 'engine_size_cc': 2259, 'colour': 'laser blue', 'dimensions_mm': {'w': 1795, 'l': 4465, 'h': 1465}, 'transmission_type': 'automatic'}\n"
     ]
    }
   ],
   "source": [
    "car['transmission_type'] = 'automatic'\n",
    "# dic[key] = value\n",
    "print(car)"
   ]
  },
  {
   "cell_type": "markdown",
   "metadata": {},
   "source": [
    "Values, Keys and Items"
   ]
  },
  {
   "cell_type": "code",
   "execution_count": 133,
   "metadata": {},
   "outputs": [
    {
     "name": "stdout",
     "output_type": "stream",
     "text": [
      "list of tuples in the dictionary \n",
      " dict_items([('make', 'Mazda'), ('model', '3 sport'), ('engine_size_cc', 2259), ('colour', 'laser blue'), ('dimensions_mm', {'w': 1795, 'l': 4465, 'h': 1465}), ('transmission_type', 'automatic')]) \n",
      "\n"
     ]
    }
   ],
   "source": [
    "print('list of tuples in the dictionary','\\n',car.items(),'\\n')"
   ]
  },
  {
   "cell_type": "code",
   "execution_count": 134,
   "metadata": {},
   "outputs": [
    {
     "name": "stdout",
     "output_type": "stream",
     "text": [
      "list of keys \n",
      " dict_keys(['make', 'model', 'engine_size_cc', 'colour', 'dimensions_mm', 'transmission_type']) \n",
      "\n"
     ]
    }
   ],
   "source": [
    "print('list of keys','\\n',car.keys(),'\\n')"
   ]
  },
  {
   "cell_type": "code",
   "execution_count": 135,
   "metadata": {},
   "outputs": [
    {
     "name": "stdout",
     "output_type": "stream",
     "text": [
      "list of values \n",
      " dict_values(['Mazda', '3 sport', 2259, 'laser blue', {'w': 1795, 'l': 4465, 'h': 1465}, 'automatic']) \n",
      "\n"
     ]
    }
   ],
   "source": [
    "print('list of values','\\n',car.values(),'\\n')"
   ]
  },
  {
   "cell_type": "markdown",
   "metadata": {},
   "source": [
    "Looping through all keys"
   ]
  },
  {
   "cell_type": "code",
   "execution_count": 136,
   "metadata": {},
   "outputs": [
    {
     "name": "stdout",
     "output_type": "stream",
     "text": [
      "make is a car characteristic\n",
      "model is a car characteristic\n",
      "engine_size_cc is a car characteristic\n",
      "colour is a car characteristic\n",
      "dimensions_mm is a car characteristic\n",
      "transmission_type is a car characteristic\n"
     ]
    }
   ],
   "source": [
    "# for keys in dictionary:\n",
    "\n",
    "for k in car.keys(): \n",
    "    print(k + ' is a car characteristic') "
   ]
  },
  {
   "cell_type": "markdown",
   "metadata": {},
   "source": [
    "Looping through all the values"
   ]
  },
  {
   "cell_type": "code",
   "execution_count": 139,
   "metadata": {},
   "outputs": [
    {
     "name": "stdout",
     "output_type": "stream",
     "text": [
      "Mazda  is the characteristic of my car\n",
      "3 sport  is the characteristic of my car\n",
      "2259  is the characteristic of my car\n",
      "laser blue  is the characteristic of my car\n",
      "{'w': 1795, 'l': 4465, 'h': 1465}  is the characteristic of my car\n",
      "automatic  is the characteristic of my car\n"
     ]
    }
   ],
   "source": [
    "# write code to loop through all the values\n",
    "\n",
    "for v in car.values(): \n",
    "    print(v , ' is the characteristic of my car')\n"
   ]
  },
  {
   "cell_type": "markdown",
   "metadata": {},
   "source": [
    "Looping through all key-value pairs"
   ]
  },
  {
   "cell_type": "code",
   "execution_count": 142,
   "metadata": {},
   "outputs": [
    {
     "name": "stdout",
     "output_type": "stream",
     "text": [
      "make is Mazda\n",
      "model is 3 sport\n",
      "engine_size_cc is 2259\n",
      "colour is laser blue\n",
      "dimensions_mm is {'w': 1795, 'l': 4465, 'h': 1465}\n",
      "transmission_type is automatic\n"
     ]
    }
   ],
   "source": [
    "for k,v in car.items():\n",
    "    print(k , 'is', v)"
   ]
  },
  {
   "cell_type": "code",
   "execution_count": 143,
   "metadata": {},
   "outputs": [
    {
     "name": "stdout",
     "output_type": "stream",
     "text": [
      "0.6666666666666666\n",
      "3.3333333333333335\n",
      "6.222222222222222\n"
     ]
    }
   ],
   "source": [
    "Tuples_List = [(1,2,3) , (4,5,6) , (7,8,9)]\n",
    "\n",
    "for a , b , c in Tuples_List:\n",
    "    print(a*b/c)\n"
   ]
  },
  {
   "cell_type": "code",
   "execution_count": 144,
   "metadata": {},
   "outputs": [
    {
     "name": "stdout",
     "output_type": "stream",
     "text": [
      "{1: 'Royal Dutch Shell', 2: 'BP', 3: 'Total', 4: 'Volkswagen', 5: 'Glencore Xstrata', 6: 'Gazprom'}\n"
     ]
    }
   ],
   "source": [
    "#Write a Python script to concatenate following dictionaries to create a new one. \n",
    "\n",
    "#Sample Dictionary : \n",
    "dic1={1:'Royal Dutch Shell', 2:'BP'} \n",
    "dic2={3:'Total', 4:'Volkswagen'} \n",
    "dic3={5:'Glencore Xstrata',6:'Gazprom'}\n",
    "\n",
    "# initialisation\n",
    "final_dic = dic1\n",
    "\n",
    "for k,v in dic2.items():\n",
    "    final_dic[k] = v\n",
    "\n",
    "for k,v in dic3.items():\n",
    "    final_dic[k] = v\n",
    "\n",
    "print(final_dic)\n"
   ]
  },
  {
   "cell_type": "code",
   "execution_count": 146,
   "metadata": {},
   "outputs": [
    {
     "name": "stdout",
     "output_type": "stream",
     "text": [
      "7  is not a key already in the dictionary\n"
     ]
    }
   ],
   "source": [
    "# Write a Python script to check if a given key already exists in a dictionary.\n",
    "\n",
    "test_number = 7\n",
    "key_in_dictionary = False\n",
    "\n",
    "### your code ####\n",
    "for k in final_dic.keys():\n",
    "    if k == test_number : key_in_dictionary = True\n",
    "        \n",
    "if key_in_dictionary : print(test_number, ' is a key already in the dictionary')\n",
    "else: print(test_number, ' is not a key already in the dictionary')\n"
   ]
  },
  {
   "cell_type": "code",
   "execution_count": 147,
   "metadata": {},
   "outputs": [
    {
     "name": "stdout",
     "output_type": "stream",
     "text": [
      "7  is not a key already in the dictionary\n"
     ]
    }
   ],
   "source": [
    "key_in_dictionary = test_number in final_dic.keys()\n",
    "\n",
    "if key_in_dictionary : print(test_number, ' is a key already in the dictionary')\n",
    "else: print(test_number, ' is not a key already in the dictionary')"
   ]
  },
  {
   "cell_type": "markdown",
   "metadata": {},
   "source": [
    "### Programs can prompt the user for input. \n",
    "All input is stored as a string. \n",
    "\n",
    "Prompting for a value"
   ]
  },
  {
   "cell_type": "code",
   "execution_count": 148,
   "metadata": {},
   "outputs": [
    {
     "name": "stdout",
     "output_type": "stream",
     "text": [
      "What's your name? Fabien the Great\n",
      "Hello, Fabien the Great!\n"
     ]
    }
   ],
   "source": [
    "# prompting for a value\n",
    "name = input(\"What's your name? \") \n",
    "print(\"Hello, \" + name + \"!\") "
   ]
  },
  {
   "cell_type": "code",
   "execution_count": 152,
   "metadata": {},
   "outputs": [
    {
     "name": "stdout",
     "output_type": "stream",
     "text": [
      "How old are you? 45\n",
      "315\n"
     ]
    }
   ],
   "source": [
    "# prompting for a number\n",
    "\n",
    "age = input(\"How old are you? \") #return a string\n",
    "age = int(age) #convert\n",
    "print(age*7)"
   ]
  },
  {
   "cell_type": "code",
   "execution_count": 153,
   "metadata": {},
   "outputs": [
    {
     "name": "stdout",
     "output_type": "stream",
     "text": [
      "What's the value of pi? 3.14\n",
      "3.14\n"
     ]
    }
   ],
   "source": [
    "pi = input(\"What's the value of pi? \") \n",
    "print(pi)\n",
    "pi = float(pi)"
   ]
  },
  {
   "cell_type": "markdown",
   "metadata": {},
   "source": [
    "# Exercise\n",
    "Create a program that asks the user to enter their name and their age. Print out a message addressed to them that tells them the year that they will turn 100 years old."
   ]
  },
  {
   "cell_type": "code",
   "execution_count": 154,
   "metadata": {},
   "outputs": [
    {
     "name": "stdout",
     "output_type": "stream",
     "text": [
      "What's your name? Bilbo Baggins\n",
      "How old are you? 55\n",
      "Hello,  Bilbo Baggins you will turn 100 years old in 2063\n"
     ]
    }
   ],
   "source": [
    "#initialisation\n",
    "current_year = 2018\n",
    "\n",
    "name = input(\"What's your name? \") \n",
    "age = input(\"How old are you? \") #return a string\n",
    "age = int(age) #convert\n",
    "\n",
    "wait = 100 - age\n",
    "year  = current_year + wait\n",
    "\n",
    "print(\"Hello,\", name, 'you will turn 100 years old in', year) "
   ]
  },
  {
   "cell_type": "code",
   "execution_count": 7,
   "metadata": {},
   "outputs": [
    {
     "name": "stdout",
     "output_type": "stream",
     "text": [
      "Which month do you need?February\n",
      "No. of days: 28\n",
      "Which Year2016\n",
      "Actually February this year has 29 days\n"
     ]
    }
   ],
   "source": [
    "# Write a Python program that prompts for a month name and converts it to a number of days.\n",
    "#List of months: January, February, March, April, May, June, July, August\n",
    "#, September, October, November, December                                \n",
    "\n",
    "# Example\n",
    "#Input the name of Month: February                                       \n",
    "#No. of days: 28/29 days \n",
    "\n",
    "months = {'January' : 31, 'February': 28, 'March':31, 'April':30, 'May':31,\n",
    "          'June':30, 'July':31, 'August':31 , 'September':30,\n",
    "          'October':31, 'November':30, 'December':31 }                    \n",
    "       \n",
    "Month = input('Which month do you need?') # prompting for the key\n",
    "\n",
    "# printing the value\n",
    "print('No. of days:',months[Month])\n",
    "\n",
    "# avdanced: what about leap years?\n",
    "Year = input('Which Year')\n",
    "Year= int(Year)\n",
    "\n",
    "# check if Year divisible by 4\n",
    "if (Year//4 == Year / 4):  # equivalent to Year %4 = 0\n",
    "    if Month == 'February':\n",
    "        print('Actually February this year has 29 days')\n",
    "        \n"
   ]
  },
  {
   "cell_type": "code",
   "execution_count": 10,
   "metadata": {},
   "outputs": [
    {
     "name": "stdout",
     "output_type": "stream",
     "text": [
      "502\n",
      "502.75\n",
      "3\n"
     ]
    }
   ],
   "source": [
    "y = 2011//4 # round division\n",
    "z = 2011/4 # standard division\n",
    "w = 2011 % 4 # modulo or remainder\n",
    "print(y)\n",
    "print(z)\n",
    "print(w)"
   ]
  }
 ],
 "metadata": {
  "kernelspec": {
   "display_name": "Python 3",
   "language": "python",
   "name": "python3"
  },
  "language_info": {
   "codemirror_mode": {
    "name": "ipython",
    "version": 3
   },
   "file_extension": ".py",
   "mimetype": "text/x-python",
   "name": "python",
   "nbconvert_exporter": "python",
   "pygments_lexer": "ipython3",
   "version": "3.6.5"
  }
 },
 "nbformat": 4,
 "nbformat_minor": 2
}
